{
  "cells": [
    {
      "cell_type": "code",
      "source": [
        "# Step 1 : Mount Google Drive\n",
        "from google.colab import drive\n",
        "drive.mount('/content/drive')"
      ],
      "metadata": {
        "id": "iLhDwesKZ_T7"
      },
      "id": "iLhDwesKZ_T7",
      "execution_count": null,
      "outputs": []
    },
    {
      "cell_type": "code",
      "execution_count": null,
      "id": "e79636ca-732e-43fa-8412-9f76656b0b5d",
      "metadata": {
        "id": "e79636ca-732e-43fa-8412-9f76656b0b5d"
      },
      "outputs": [],
      "source": [
        "# Step 2 : Install Ultralytics\n",
        "!pip install -U ultralytics"
      ]
    },
    {
      "cell_type": "code",
      "source": [
        "# Step 3 : Training model YOLO\n",
        "\n",
        "from ultralytics import YOLO\n",
        "\n",
        "# Load model YOLO\n",
        "model = YOLO('/content/drive/MyDrive/yolo11x.pt')\n",
        "\n",
        "# Mulai training\n",
        "model.train(\n",
        "    data='/content/drive/MyDrive/data.yaml',\n",
        "    epochs=100,\n",
        "    imgsz=640,\n",
        "    batch=8,\n",
        "    project='/content/drive/MyDrive/hasil_training_model',\n",
        "    name='yolov11x_deteksi_sawit',\n",
        "    optimizer='SGD',\n",
        "    device=0,\n",
        "    patience=20,\n",
        ")"
      ],
      "metadata": {
        "id": "SNd3pz67Uu2K"
      },
      "id": "SNd3pz67Uu2K",
      "execution_count": null,
      "outputs": []
    },
    {
      "cell_type": "code",
      "execution_count": null,
      "id": "d25b1eab-e4d0-4199-bcff-84e440cca645",
      "metadata": {
        "id": "d25b1eab-e4d0-4199-bcff-84e440cca645"
      },
      "outputs": [],
      "source": [
        "# Step 4 : konversi ke format ONNX\n",
        "\n",
        "from ultralytics import YOLO\n",
        "\n",
        "# Load model hasil training\n",
        "model = YOLO('/content/drive/MyDrive/hasil_training_model/yolov11x_deteksi_sawit/weights/best.pt')\n",
        "\n",
        "# Export ke format ONNX\n",
        "model.export(format='onnx')"
      ]
    }
  ],
  "metadata": {
    "kernelspec": {
      "display_name": "Python 3",
      "name": "python3"
    },
    "language_info": {
      "codemirror_mode": {
        "name": "ipython",
        "version": 3
      },
      "file_extension": ".py",
      "mimetype": "text/x-python",
      "name": "python",
      "nbconvert_exporter": "python",
      "pygments_lexer": "ipython3",
      "version": "3.12.10"
    },
    "colab": {
      "provenance": [],
      "gpuType": "T4"
    },
    "accelerator": "GPU"
  },
  "nbformat": 4,
  "nbformat_minor": 5
}